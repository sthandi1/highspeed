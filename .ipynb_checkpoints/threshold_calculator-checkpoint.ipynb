{
 "cells": [
  {
   "cell_type": "code",
   "execution_count": 10,
   "id": "english-samba",
   "metadata": {},
   "outputs": [],
   "source": [
    "import cv2\n",
    "from mraw_v2 import mraw"
   ]
  },
  {
   "cell_type": "code",
   "execution_count": 11,
   "id": "selective-gamma",
   "metadata": {},
   "outputs": [],
   "source": [
    "def nothing(x):\n",
    "    # this function is used by the trackbars\n",
    "    print(x)"
   ]
  },
  {
   "cell_type": "code",
   "execution_count": 12,
   "id": "european-hands",
   "metadata": {},
   "outputs": [],
   "source": [
    "inputFile = \"/Volumes/My Passport/Experiments/2020-02 High speed camera experiments/0_cowl/Re_1551/We_5_22/0_cowl_1551_522.cihx\""
   ]
  },
  {
   "cell_type": "code",
   "execution_count": null,
   "id": "norman-continent",
   "metadata": {},
   "outputs": [],
   "source": [
    "\"\"\"\n",
    "This function is used to determine the threshold value to be used in the\n",
    "processing\n",
    "\n",
    "Returns\n",
    "-------\n",
    "None.\n",
    "\n",
    "\"\"\"\n",
    "# make a new window called thresholded image\n",
    "cv2.namedWindow('threshold trackbar')\n",
    "# make a trackbar which will govern the threshold \n",
    "# first argument is the name of the trackbar\n",
    "# second argument is the window name that the trackbar should be in\n",
    "# third argument is the starting value\n",
    "# fourth argument is the maximum value\n",
    "# fifth argument is the callback function\n",
    "cv2.createTrackbar('threshold', 'threshold trackbar', 0, 4096, nothing)\n",
    "\n",
    "movie = mraw(inputFile)\n",
    "image = movie[0]\n",
    "# while loop allows image to be dynamically updated\n",
    "while True:\n",
    "    # assign the threshold value to a parameter\n",
    "    thresh = cv2.getTrackbarPos('threshold', 'threshold trackbar')\n",
    "    # apply binary threshold where below threshold is zero and above is max\n",
    "    _, th1 = cv2.threshold(image, thresh, 4096, cv2.THRESH_BINARY)\n",
    "    # show thresholded image\n",
    "    cv2.imshow('threshold trackbar', th1)\n",
    "    # how long to wait before closing window\n",
    "    key = cv2.waitKey(5)\n",
    "    if key == 27:\n",
    "        break\n",
    "    # stops crashes and destroys windows\n",
    "cv2.destroyAllWindows()"
   ]
  },
  {
   "cell_type": "code",
   "execution_count": null,
   "id": "built-appreciation",
   "metadata": {},
   "outputs": [],
   "source": []
  }
 ],
 "metadata": {
  "kernelspec": {
   "display_name": "Python 3",
   "language": "python",
   "name": "python3"
  },
  "language_info": {
   "codemirror_mode": {
    "name": "ipython",
    "version": 3
   },
   "file_extension": ".py",
   "mimetype": "text/x-python",
   "name": "python",
   "nbconvert_exporter": "python",
   "pygments_lexer": "ipython3",
   "version": "3.8.5"
  }
 },
 "nbformat": 4,
 "nbformat_minor": 5
}
